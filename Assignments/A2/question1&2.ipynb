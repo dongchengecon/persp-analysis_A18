{
 "cells": [
  {
   "cell_type": "markdown",
   "metadata": {},
   "source": [
    "# Assignment 2  \n",
    "\n",
    "### MACS 30000, Dr. Evans\n",
    "### Dongcheng Yang  \n",
    "### Oct. 11 "
   ]
  },
  {
   "cell_type": "code",
   "execution_count": 57,
   "metadata": {},
   "outputs": [],
   "source": [
    "# Import packages\n",
    "import numpy as np\n",
    "import pandas as pd\n",
    "import statsmodels.api as sm\n",
    "import matplotlib.pyplot as plt\n",
    "# plt.style.use('seaborn')"
   ]
  },
  {
   "cell_type": "markdown",
   "metadata": {},
   "source": [
    "### 1. imputing age and gender"
   ]
  },
  {
   "cell_type": "markdown",
   "metadata": {},
   "source": [
    "#### (a)  The procedures of imputing age and gender are as follows:  \n",
    "1) Regress age and female seperately on the variables total income and weight by using SurvIncome dataset  \n",
    "     The regression equations are:  \n",
    "     $$ age_i=\\beta_0+\\beta_1*totalincome_i+\\beta_2*weight_i+\\epsilon_i $$  \n",
    "     $$ female_i=\\beta_0+\\beta_1*totalincome_i+\\beta_2*weight_i+\\epsilon_i $$  \n",
    "2) Compute total income in BestIncome dataset by adding up variables \"lab_inc\" and \"cap_inc\"  \n",
    "3) Use the created variable total income and weight from BestIncome dataset and the two linear regressions above to impute age and gender  \n",
    "4) For the computed gender variables with value more than 0.5, let it equal to 1 as a representative of female"
   ]
  },
  {
   "cell_type": "code",
   "execution_count": 53,
   "metadata": {},
   "outputs": [
    {
     "name": "stdout",
     "output_type": "stream",
     "text": [
      "        tot_inc        wgti        age  female\n",
      "0  63642.513655  134.998269  46.610021     1.0\n",
      "1  49177.380692  134.392957  48.791349     1.0\n",
      "2  67833.339128  126.482992  48.429894     1.0\n",
      "3  62962.266217  128.038121  41.543926     1.0\n",
      "4  58716.952597  126.211980  41.201245     1.0\n",
      "        lab_inc       cap_inc        hgt         wgt\n",
      "0  52655.605507   9279.509829  64.568138  152.920634\n",
      "1  70586.979225   9451.016902  65.727648  159.534414\n",
      "2  53738.008339   8078.132315  66.268796  152.502405\n",
      "3  55128.180903  12692.670403  62.910559  149.218189\n",
      "4  44482.794867   9812.975746  68.678295  152.726358\n"
     ]
    }
   ],
   "source": [
    "# Define Data\n",
    "SI = pd.read_csv('SurvIncome.txt', index_col=0,header=None).reset_index()\n",
    "SI.columns=[\"tot_inc\",\"wgti\",\"age\",\"female\"]\n",
    "print(SI.head())\n",
    "BI = pd.read_csv('BestIncome.txt', index_col=0,header=None).reset_index()\n",
    "BI.columns=[\"lab_inc\",\"cap_inc\",\"hgt\",\"wgt\"]\n",
    "print(BI.head())"
   ]
  },
  {
   "cell_type": "markdown",
   "metadata": {},
   "source": [
    "#### (b) Here is where I'll use my proposed method from part (a) to impute variables."
   ]
  },
  {
   "cell_type": "code",
   "execution_count": 54,
   "metadata": {},
   "outputs": [
    {
     "name": "stdout",
     "output_type": "stream",
     "text": [
      "                            OLS Regression Results                            \n",
      "==============================================================================\n",
      "Dep. Variable:                    age   R-squared:                       0.001\n",
      "Model:                            OLS   Adj. R-squared:                 -0.001\n",
      "Method:                 Least Squares   F-statistic:                    0.6326\n",
      "Date:                Thu, 11 Oct 2018   Prob (F-statistic):              0.531\n",
      "Time:                        16:49:19   Log-Likelihood:                -3199.4\n",
      "No. Observations:                1000   AIC:                             6405.\n",
      "Df Residuals:                     997   BIC:                             6419.\n",
      "Df Model:                           2                                         \n",
      "Covariance Type:            nonrobust                                         \n",
      "==============================================================================\n",
      "                 coef    std err          t      P>|t|      [0.025      0.975]\n",
      "------------------------------------------------------------------------------\n",
      "tot_inc      2.52e-05   2.26e-05      1.114      0.266   -1.92e-05    6.96e-05\n",
      "wgti          -0.0067      0.010     -0.686      0.493      -0.026       0.013\n",
      "const         44.2097      1.490     29.666      0.000      41.285      47.134\n",
      "==============================================================================\n",
      "Omnibus:                        2.460   Durbin-Watson:                   1.921\n",
      "Prob(Omnibus):                  0.292   Jarque-Bera (JB):                2.322\n",
      "Skew:                          -0.109   Prob(JB):                        0.313\n",
      "Kurtosis:                       3.092   Cond. No.                     5.20e+05\n",
      "==============================================================================\n",
      "\n",
      "Warnings:\n",
      "[1] Standard Errors assume that the covariance matrix of the errors is correctly specified.\n",
      "[2] The condition number is large, 5.2e+05. This might indicate that there are\n",
      "strong multicollinearity or other numerical problems.\n",
      "                            OLS Regression Results                            \n",
      "==============================================================================\n",
      "Dep. Variable:                 female   R-squared:                       0.834\n",
      "Model:                            OLS   Adj. R-squared:                  0.834\n",
      "Method:                 Least Squares   F-statistic:                     2513.\n",
      "Date:                Thu, 11 Oct 2018   Prob (F-statistic):               0.00\n",
      "Time:                        16:49:20   Log-Likelihood:                 173.49\n",
      "No. Observations:                1000   AIC:                            -341.0\n",
      "Df Residuals:                     997   BIC:                            -326.3\n",
      "Df Model:                           2                                         \n",
      "Covariance Type:            nonrobust                                         \n",
      "==============================================================================\n",
      "                 coef    std err          t      P>|t|      [0.025      0.975]\n",
      "------------------------------------------------------------------------------\n",
      "tot_inc     -5.25e-06   7.76e-07     -6.765      0.000   -6.77e-06   -3.73e-06\n",
      "wgti          -0.0195      0.000    -58.098      0.000      -0.020      -0.019\n",
      "const          3.7611      0.051     73.600      0.000       3.661       3.861\n",
      "==============================================================================\n",
      "Omnibus:                        0.170   Durbin-Watson:                   1.634\n",
      "Prob(Omnibus):                  0.918   Jarque-Bera (JB):                0.114\n",
      "Skew:                          -0.022   Prob(JB):                        0.945\n",
      "Kurtosis:                       3.029   Cond. No.                     5.20e+05\n",
      "==============================================================================\n",
      "\n",
      "Warnings:\n",
      "[1] Standard Errors assume that the covariance matrix of the errors is correctly specified.\n",
      "[2] The condition number is large, 5.2e+05. This might indicate that there are\n",
      "strong multicollinearity or other numerical problems.\n"
     ]
    },
    {
     "data": {
      "text/html": [
       "<div>\n",
       "<style scoped>\n",
       "    .dataframe tbody tr th:only-of-type {\n",
       "        vertical-align: middle;\n",
       "    }\n",
       "\n",
       "    .dataframe tbody tr th {\n",
       "        vertical-align: top;\n",
       "    }\n",
       "\n",
       "    .dataframe thead th {\n",
       "        text-align: right;\n",
       "    }\n",
       "</style>\n",
       "<table border=\"1\" class=\"dataframe\">\n",
       "  <thead>\n",
       "    <tr style=\"text-align: right;\">\n",
       "      <th></th>\n",
       "      <th>lab_inc</th>\n",
       "      <th>cap_inc</th>\n",
       "      <th>hgt</th>\n",
       "      <th>wgt</th>\n",
       "      <th>tot_inc</th>\n",
       "      <th>imputed_age</th>\n",
       "      <th>imputed_female</th>\n",
       "    </tr>\n",
       "  </thead>\n",
       "  <tbody>\n",
       "    <tr>\n",
       "      <th>0</th>\n",
       "      <td>52655.605507</td>\n",
       "      <td>9279.509829</td>\n",
       "      <td>64.568138</td>\n",
       "      <td>152.920634</td>\n",
       "      <td>61935.115336</td>\n",
       "      <td>44.745897</td>\n",
       "      <td>0</td>\n",
       "    </tr>\n",
       "    <tr>\n",
       "      <th>1</th>\n",
       "      <td>70586.979225</td>\n",
       "      <td>9451.016902</td>\n",
       "      <td>65.727648</td>\n",
       "      <td>159.534414</td>\n",
       "      <td>80037.996127</td>\n",
       "      <td>45.157777</td>\n",
       "      <td>0</td>\n",
       "    </tr>\n",
       "    <tr>\n",
       "      <th>2</th>\n",
       "      <td>53738.008339</td>\n",
       "      <td>8078.132315</td>\n",
       "      <td>66.268796</td>\n",
       "      <td>152.502405</td>\n",
       "      <td>61816.140654</td>\n",
       "      <td>44.745701</td>\n",
       "      <td>0</td>\n",
       "    </tr>\n",
       "    <tr>\n",
       "      <th>3</th>\n",
       "      <td>55128.180903</td>\n",
       "      <td>12692.670403</td>\n",
       "      <td>62.910559</td>\n",
       "      <td>149.218189</td>\n",
       "      <td>67820.851305</td>\n",
       "      <td>44.919024</td>\n",
       "      <td>0</td>\n",
       "    </tr>\n",
       "    <tr>\n",
       "      <th>4</th>\n",
       "      <td>44482.794867</td>\n",
       "      <td>9812.975746</td>\n",
       "      <td>68.678295</td>\n",
       "      <td>152.726358</td>\n",
       "      <td>54295.770612</td>\n",
       "      <td>44.554687</td>\n",
       "      <td>0</td>\n",
       "    </tr>\n",
       "  </tbody>\n",
       "</table>\n",
       "</div>"
      ],
      "text/plain": [
       "        lab_inc       cap_inc        hgt         wgt       tot_inc  \\\n",
       "0  52655.605507   9279.509829  64.568138  152.920634  61935.115336   \n",
       "1  70586.979225   9451.016902  65.727648  159.534414  80037.996127   \n",
       "2  53738.008339   8078.132315  66.268796  152.502405  61816.140654   \n",
       "3  55128.180903  12692.670403  62.910559  149.218189  67820.851305   \n",
       "4  44482.794867   9812.975746  68.678295  152.726358  54295.770612   \n",
       "\n",
       "   imputed_age  imputed_female  \n",
       "0    44.745897               0  \n",
       "1    45.157777               0  \n",
       "2    44.745701               0  \n",
       "3    44.919024               0  \n",
       "4    44.554687               0  "
      ]
     },
     "execution_count": 54,
     "metadata": {},
     "output_type": "execute_result"
    }
   ],
   "source": [
    "# regression of age on tot_inc and wgti\n",
    "outcome  ='age'\n",
    "features = ['tot_inc', 'wgti']\n",
    "X, y = SI[features], SI[outcome]\n",
    "X_vars = sm.add_constant(X, prepend=False)\n",
    "m = sm.OLS(y, X_vars)\n",
    "res = m.fit()\n",
    "print(res.summary())\n",
    "\n",
    "#Getting Age With a Custom Formula\n",
    "def get_age(row):\n",
    "    tot_inc = row[0]\n",
    "    wgt=row[1]\n",
    "    age = 44.2097+(tot_inc* 2.52e-05)+(wgt*(-0.0067))\n",
    "    return age\n",
    "\n",
    "# Impute Variable Age\n",
    "BI['tot_inc']=BI['lab_inc']+BI['cap_inc']\n",
    "BI['imputed_age'] = BI[['tot_inc', 'wgt']].apply(get_age, axis=1)\n",
    "BI.head()\n",
    "\n",
    "# regression of gender on tot_inc and wgti\n",
    "outcome  ='female'\n",
    "features = ['tot_inc', 'wgti']\n",
    "X, y = SI[features], SI[outcome]\n",
    "X_vars = sm.add_constant(X, prepend=False)\n",
    "m = sm.OLS(y, X_vars)\n",
    "res = m.fit()\n",
    "print(res.summary())\n",
    "\n",
    "#Getting Gender With a Custom Formula\n",
    "def get_gender(row):\n",
    "    tot_inc = row[0]\n",
    "    wgt=row[1]\n",
    "    female = 3.7611+(tot_inc* (-5.25e-06))+(wgt*(-0.0195))\n",
    "    return female\n",
    "\n",
    "# Impute Variable Female\n",
    "BI['imputed_female'] = BI[['tot_inc', 'wgt']].apply(get_gender, axis=1)\n",
    "\n",
    "# Change imputed_female to int\n",
    "BI['imputed_female'] = np.where(BI['imputed_female']>=0.5, 1, 0)\n",
    "BI.head()"
   ]
  },
  {
   "cell_type": "markdown",
   "metadata": {},
   "source": [
    "#### (c) Here is where I'll report the descriptive statistics for my new imputed variables."
   ]
  },
  {
   "cell_type": "code",
   "execution_count": 56,
   "metadata": {},
   "outputs": [
    {
     "name": "stdout",
     "output_type": "stream",
     "text": [
      "count    10000.000000\n",
      "mean        44.894036\n",
      "std          0.219066\n",
      "min         43.980016\n",
      "25%         44.747065\n",
      "50%         44.890281\n",
      "75%         45.042239\n",
      "max         45.706849\n",
      "Name: imputed_age, dtype: float64\n",
      "count    10000.000000\n",
      "mean         0.470500\n",
      "std          0.499154\n",
      "min          0.000000\n",
      "25%          0.000000\n",
      "50%          0.000000\n",
      "75%          1.000000\n",
      "max          1.000000\n",
      "Name: imputed_female, dtype: float64\n"
     ]
    }
   ],
   "source": [
    "#Get imputed_age Descriptive Stats\n",
    "print(BI['imputed_age'].describe())\n",
    "#Get imputed_female Descriptive Stats\n",
    "print(BI['imputed_female'].describe())"
   ]
  },
  {
   "cell_type": "markdown",
   "metadata": {},
   "source": [
    "#### (d) Correlation matrix for the now six variables"
   ]
  },
  {
   "cell_type": "code",
   "execution_count": 59,
   "metadata": {},
   "outputs": [
    {
     "data": {
      "text/html": [
       "<style  type=\"text/css\" >\n",
       "    #T_f32a912e_cda1_11e8_b544_a0999b0fcce8row0_col0 {\n",
       "            background-color:  #023858;\n",
       "        }    #T_f32a912e_cda1_11e8_b544_a0999b0fcce8row0_col1 {\n",
       "            background-color:  #f8f1f8;\n",
       "        }    #T_f32a912e_cda1_11e8_b544_a0999b0fcce8row0_col2 {\n",
       "            background-color:  #ede8f3;\n",
       "        }    #T_f32a912e_cda1_11e8_b544_a0999b0fcce8row0_col3 {\n",
       "            background-color:  #8cb3d5;\n",
       "        }    #T_f32a912e_cda1_11e8_b544_a0999b0fcce8row0_col4 {\n",
       "            background-color:  #03476f;\n",
       "        }    #T_f32a912e_cda1_11e8_b544_a0999b0fcce8row0_col5 {\n",
       "            background-color:  #b0c2de;\n",
       "        }    #T_f32a912e_cda1_11e8_b544_a0999b0fcce8row1_col0 {\n",
       "            background-color:  #e7e3f0;\n",
       "        }    #T_f32a912e_cda1_11e8_b544_a0999b0fcce8row1_col1 {\n",
       "            background-color:  #023858;\n",
       "        }    #T_f32a912e_cda1_11e8_b544_a0999b0fcce8row1_col2 {\n",
       "            background-color:  #e9e5f1;\n",
       "        }    #T_f32a912e_cda1_11e8_b544_a0999b0fcce8row1_col3 {\n",
       "            background-color:  #8cb3d5;\n",
       "        }    #T_f32a912e_cda1_11e8_b544_a0999b0fcce8row1_col4 {\n",
       "            background-color:  #97b7d7;\n",
       "        }    #T_f32a912e_cda1_11e8_b544_a0999b0fcce8row1_col5 {\n",
       "            background-color:  #97b7d7;\n",
       "        }    #T_f32a912e_cda1_11e8_b544_a0999b0fcce8row2_col0 {\n",
       "            background-color:  #e8e4f0;\n",
       "        }    #T_f32a912e_cda1_11e8_b544_a0999b0fcce8row2_col1 {\n",
       "            background-color:  #f5eff6;\n",
       "        }    #T_f32a912e_cda1_11e8_b544_a0999b0fcce8row2_col2 {\n",
       "            background-color:  #023858;\n",
       "        }    #T_f32a912e_cda1_11e8_b544_a0999b0fcce8row2_col3 {\n",
       "            background-color:  #63a2cb;\n",
       "        }    #T_f32a912e_cda1_11e8_b544_a0999b0fcce8row2_col4 {\n",
       "            background-color:  #dcdaeb;\n",
       "        }    #T_f32a912e_cda1_11e8_b544_a0999b0fcce8row2_col5 {\n",
       "            background-color:  #abbfdc;\n",
       "        }    #T_f32a912e_cda1_11e8_b544_a0999b0fcce8row3_col0 {\n",
       "            background-color:  #e7e3f0;\n",
       "        }    #T_f32a912e_cda1_11e8_b544_a0999b0fcce8row3_col1 {\n",
       "            background-color:  #f8f1f8;\n",
       "        }    #T_f32a912e_cda1_11e8_b544_a0999b0fcce8row3_col2 {\n",
       "            background-color:  #c9cee4;\n",
       "        }    #T_f32a912e_cda1_11e8_b544_a0999b0fcce8row3_col3 {\n",
       "            background-color:  #023858;\n",
       "        }    #T_f32a912e_cda1_11e8_b544_a0999b0fcce8row3_col4 {\n",
       "            background-color:  #fff7fb;\n",
       "        }    #T_f32a912e_cda1_11e8_b544_a0999b0fcce8row3_col5 {\n",
       "            background-color:  #fff7fb;\n",
       "        }    #T_f32a912e_cda1_11e8_b544_a0999b0fcce8row4_col0 {\n",
       "            background-color:  #034973;\n",
       "        }    #T_f32a912e_cda1_11e8_b544_a0999b0fcce8row4_col1 {\n",
       "            background-color:  #cacee5;\n",
       "        }    #T_f32a912e_cda1_11e8_b544_a0999b0fcce8row4_col2 {\n",
       "            background-color:  #f3edf5;\n",
       "        }    #T_f32a912e_cda1_11e8_b544_a0999b0fcce8row4_col3 {\n",
       "            background-color:  #cacee5;\n",
       "        }    #T_f32a912e_cda1_11e8_b544_a0999b0fcce8row4_col4 {\n",
       "            background-color:  #023858;\n",
       "        }    #T_f32a912e_cda1_11e8_b544_a0999b0fcce8row4_col5 {\n",
       "            background-color:  #7dacd1;\n",
       "        }    #T_f32a912e_cda1_11e8_b544_a0999b0fcce8row5_col0 {\n",
       "            background-color:  #fff7fb;\n",
       "        }    #T_f32a912e_cda1_11e8_b544_a0999b0fcce8row5_col1 {\n",
       "            background-color:  #fff7fb;\n",
       "        }    #T_f32a912e_cda1_11e8_b544_a0999b0fcce8row5_col2 {\n",
       "            background-color:  #fff7fb;\n",
       "        }    #T_f32a912e_cda1_11e8_b544_a0999b0fcce8row5_col3 {\n",
       "            background-color:  #fff7fb;\n",
       "        }    #T_f32a912e_cda1_11e8_b544_a0999b0fcce8row5_col4 {\n",
       "            background-color:  #c4cbe3;\n",
       "        }    #T_f32a912e_cda1_11e8_b544_a0999b0fcce8row5_col5 {\n",
       "            background-color:  #023858;\n",
       "        }</style>  \n",
       "<table id=\"T_f32a912e_cda1_11e8_b544_a0999b0fcce8\" > \n",
       "<thead>    <tr> \n",
       "        <th class=\"blank level0\" ></th> \n",
       "        <th class=\"col_heading level0 col0\" >lab_inc</th> \n",
       "        <th class=\"col_heading level0 col1\" >cap_inc</th> \n",
       "        <th class=\"col_heading level0 col2\" >hgt</th> \n",
       "        <th class=\"col_heading level0 col3\" >wgt</th> \n",
       "        <th class=\"col_heading level0 col4\" >imputed_age</th> \n",
       "        <th class=\"col_heading level0 col5\" >imputed_female</th> \n",
       "    </tr></thead> \n",
       "<tbody>    <tr> \n",
       "        <th id=\"T_f32a912e_cda1_11e8_b544_a0999b0fcce8level0_row0\" class=\"row_heading level0 row0\" >lab_inc</th> \n",
       "        <td id=\"T_f32a912e_cda1_11e8_b544_a0999b0fcce8row0_col0\" class=\"data row0 col0\" >1</td> \n",
       "        <td id=\"T_f32a912e_cda1_11e8_b544_a0999b0fcce8row0_col1\" class=\"data row0 col1\" >0.0053253</td> \n",
       "        <td id=\"T_f32a912e_cda1_11e8_b544_a0999b0fcce8row0_col2\" class=\"data row0 col2\" >0.00278978</td> \n",
       "        <td id=\"T_f32a912e_cda1_11e8_b544_a0999b0fcce8row0_col3\" class=\"data row0 col3\" >0.00450691</td> \n",
       "        <td id=\"T_f32a912e_cda1_11e8_b544_a0999b0fcce8row0_col4\" class=\"data row0 col4\" >0.924329</td> \n",
       "        <td id=\"T_f32a912e_cda1_11e8_b544_a0999b0fcce8row0_col5\" class=\"data row0 col5\" >-0.164857</td> \n",
       "    </tr>    <tr> \n",
       "        <th id=\"T_f32a912e_cda1_11e8_b544_a0999b0fcce8level0_row1\" class=\"row_heading level0 row1\" >cap_inc</th> \n",
       "        <td id=\"T_f32a912e_cda1_11e8_b544_a0999b0fcce8row1_col0\" class=\"data row1 col0\" >0.0053253</td> \n",
       "        <td id=\"T_f32a912e_cda1_11e8_b544_a0999b0fcce8row1_col1\" class=\"data row1 col1\" >1</td> \n",
       "        <td id=\"T_f32a912e_cda1_11e8_b544_a0999b0fcce8row1_col2\" class=\"data row1 col2\" >0.0215716</td> \n",
       "        <td id=\"T_f32a912e_cda1_11e8_b544_a0999b0fcce8row1_col3\" class=\"data row1 col3\" >0.00629868</td> \n",
       "        <td id=\"T_f32a912e_cda1_11e8_b544_a0999b0fcce8row1_col4\" class=\"data row1 col4\" >0.234234</td> \n",
       "        <td id=\"T_f32a912e_cda1_11e8_b544_a0999b0fcce8row1_col5\" class=\"data row1 col5\" >-0.0465937</td> \n",
       "    </tr>    <tr> \n",
       "        <th id=\"T_f32a912e_cda1_11e8_b544_a0999b0fcce8level0_row2\" class=\"row_heading level0 row2\" >hgt</th> \n",
       "        <td id=\"T_f32a912e_cda1_11e8_b544_a0999b0fcce8row2_col0\" class=\"data row2 col0\" >0.00278978</td> \n",
       "        <td id=\"T_f32a912e_cda1_11e8_b544_a0999b0fcce8row2_col1\" class=\"data row2 col1\" >0.0215716</td> \n",
       "        <td id=\"T_f32a912e_cda1_11e8_b544_a0999b0fcce8row2_col2\" class=\"data row2 col2\" >1</td> \n",
       "        <td id=\"T_f32a912e_cda1_11e8_b544_a0999b0fcce8row2_col3\" class=\"data row2 col3\" >0.172103</td> \n",
       "        <td id=\"T_f32a912e_cda1_11e8_b544_a0999b0fcce8row2_col4\" class=\"data row2 col4\" >-0.0449272</td> \n",
       "        <td id=\"T_f32a912e_cda1_11e8_b544_a0999b0fcce8row2_col5\" class=\"data row2 col5\" >-0.134172</td> \n",
       "    </tr>    <tr> \n",
       "        <th id=\"T_f32a912e_cda1_11e8_b544_a0999b0fcce8level0_row3\" class=\"row_heading level0 row3\" >wgt</th> \n",
       "        <td id=\"T_f32a912e_cda1_11e8_b544_a0999b0fcce8row3_col0\" class=\"data row3 col0\" >0.00450691</td> \n",
       "        <td id=\"T_f32a912e_cda1_11e8_b544_a0999b0fcce8row3_col1\" class=\"data row3 col1\" >0.00629868</td> \n",
       "        <td id=\"T_f32a912e_cda1_11e8_b544_a0999b0fcce8row3_col2\" class=\"data row3 col2\" >0.172103</td> \n",
       "        <td id=\"T_f32a912e_cda1_11e8_b544_a0999b0fcce8row3_col3\" class=\"data row3 col3\" >1</td> \n",
       "        <td id=\"T_f32a912e_cda1_11e8_b544_a0999b0fcce8row3_col4\" class=\"data row3 col4\" >-0.299395</td> \n",
       "        <td id=\"T_f32a912e_cda1_11e8_b544_a0999b0fcce8row3_col5\" class=\"data row3 col5\" >-0.778537</td> \n",
       "    </tr>    <tr> \n",
       "        <th id=\"T_f32a912e_cda1_11e8_b544_a0999b0fcce8level0_row4\" class=\"row_heading level0 row4\" >imputed_age</th> \n",
       "        <td id=\"T_f32a912e_cda1_11e8_b544_a0999b0fcce8row4_col0\" class=\"data row4 col0\" >0.924329</td> \n",
       "        <td id=\"T_f32a912e_cda1_11e8_b544_a0999b0fcce8row4_col1\" class=\"data row4 col1\" >0.234234</td> \n",
       "        <td id=\"T_f32a912e_cda1_11e8_b544_a0999b0fcce8row4_col2\" class=\"data row4 col2\" >-0.0449272</td> \n",
       "        <td id=\"T_f32a912e_cda1_11e8_b544_a0999b0fcce8row4_col3\" class=\"data row4 col3\" >-0.299395</td> \n",
       "        <td id=\"T_f32a912e_cda1_11e8_b544_a0999b0fcce8row4_col4\" class=\"data row4 col4\" >1</td> \n",
       "        <td id=\"T_f32a912e_cda1_11e8_b544_a0999b0fcce8row4_col5\" class=\"data row4 col5\" >0.0742876</td> \n",
       "    </tr>    <tr> \n",
       "        <th id=\"T_f32a912e_cda1_11e8_b544_a0999b0fcce8level0_row5\" class=\"row_heading level0 row5\" >imputed_female</th> \n",
       "        <td id=\"T_f32a912e_cda1_11e8_b544_a0999b0fcce8row5_col0\" class=\"data row5 col0\" >-0.164857</td> \n",
       "        <td id=\"T_f32a912e_cda1_11e8_b544_a0999b0fcce8row5_col1\" class=\"data row5 col1\" >-0.0465937</td> \n",
       "        <td id=\"T_f32a912e_cda1_11e8_b544_a0999b0fcce8row5_col2\" class=\"data row5 col2\" >-0.134172</td> \n",
       "        <td id=\"T_f32a912e_cda1_11e8_b544_a0999b0fcce8row5_col3\" class=\"data row5 col3\" >-0.778537</td> \n",
       "        <td id=\"T_f32a912e_cda1_11e8_b544_a0999b0fcce8row5_col4\" class=\"data row5 col4\" >0.0742876</td> \n",
       "        <td id=\"T_f32a912e_cda1_11e8_b544_a0999b0fcce8row5_col5\" class=\"data row5 col5\" >1</td> \n",
       "    </tr></tbody> \n",
       "</table> "
      ],
      "text/plain": [
       "<pandas.io.formats.style.Styler at 0xcc94fb518>"
      ]
     },
     "execution_count": 59,
     "metadata": {},
     "output_type": "execute_result"
    }
   ],
   "source": [
    "# Correction Matrix\n",
    "del BI['tot_inc']\n",
    "corr = BI.corr()\n",
    "corr.style.background_gradient()"
   ]
  },
  {
   "cell_type": "markdown",
   "metadata": {},
   "source": [
    "### 2. Stationarity and data drift"
   ]
  },
  {
   "cell_type": "markdown",
   "metadata": {},
   "source": [
    "#### (a) Estimate by OLS and report coefficients"
   ]
  },
  {
   "cell_type": "code",
   "execution_count": 74,
   "metadata": {},
   "outputs": [
    {
     "name": "stdout",
     "output_type": "stream",
     "text": [
      "   grad_year     gre_qnt     salary_p4\n",
      "0     2001.0  739.737072  67400.475185\n",
      "1     2001.0  721.811673  67600.584142\n",
      "2     2001.0  736.277908  58704.880589\n",
      "3     2001.0  770.498485  64707.290345\n",
      "4     2001.0  735.002861  51737.324165\n",
      "                            OLS Regression Results                            \n",
      "==============================================================================\n",
      "Dep. Variable:              salary_p4   R-squared:                       0.263\n",
      "Model:                            OLS   Adj. R-squared:                  0.262\n",
      "Method:                 Least Squares   F-statistic:                     356.3\n",
      "Date:                Mon, 15 Oct 2018   Prob (F-statistic):           3.43e-68\n",
      "Time:                        11:59:12   Log-Likelihood:                -10673.\n",
      "No. Observations:                1000   AIC:                         2.135e+04\n",
      "Df Residuals:                     998   BIC:                         2.136e+04\n",
      "Df Model:                           1                                         \n",
      "Covariance Type:            nonrobust                                         \n",
      "==============================================================================\n",
      "                 coef    std err          t      P>|t|      [0.025      0.975]\n",
      "------------------------------------------------------------------------------\n",
      "gre_qnt      -25.7632      1.365    -18.875      0.000     -28.442     -23.085\n",
      "const       8.954e+04    878.764    101.895      0.000    8.78e+04    9.13e+04\n",
      "==============================================================================\n",
      "Omnibus:                        9.118   Durbin-Watson:                   1.424\n",
      "Prob(Omnibus):                  0.010   Jarque-Bera (JB):                9.100\n",
      "Skew:                           0.230   Prob(JB):                       0.0106\n",
      "Kurtosis:                       3.077   Cond. No.                     1.71e+03\n",
      "==============================================================================\n",
      "\n",
      "Warnings:\n",
      "[1] Standard Errors assume that the covariance matrix of the errors is correctly specified.\n",
      "[2] The condition number is large, 1.71e+03. This might indicate that there are\n",
      "strong multicollinearity or other numerical problems.\n"
     ]
    }
   ],
   "source": [
    "# Define Data\n",
    "II = pd.read_csv('IncomeIntel.txt', index_col=0,header=None).reset_index()\n",
    "II.columns=[\"grad_year\",\"gre_qnt\",\"salary_p4\"] \n",
    "print(II.head())\n",
    "\n",
    "# regression of salary_p4 on gre_qnt\n",
    "outcome  ='salary_p4'\n",
    "features = 'gre_qnt'\n",
    "X, y = II[features], II[outcome]\n",
    "X_vars = sm.add_constant(X, prepend=False)\n",
    "m = sm.OLS(y, X_vars)\n",
    "res = m.fit()\n",
    "print(res.summary())"
   ]
  },
  {
   "cell_type": "markdown",
   "metadata": {},
   "source": [
    "#### (b) Create a scatterplot of GRE score and graduation year. "
   ]
  },
  {
   "cell_type": "code",
   "execution_count": 75,
   "metadata": {},
   "outputs": [
    {
     "data": {
      "image/png": "[encoded data removed]",
      "text/plain": [
       "<Figure size 432x288 with 1 Axes>"
      ]
     },
     "metadata": {},
     "output_type": "display_data"
    }
   ],
   "source": [
    "# Make scatterplot of GRE score and graduation year\n",
    "# simple scatterplot using matplotlib\n",
    "II.plot(x='grad_year', y='gre_qnt', kind='scatter')\n",
    "plt.show()"
   ]
  },
  {
   "cell_type": "markdown",
   "metadata": {},
   "source": [
    "From the scatterplot, we can see that at year 2011, the GRE underwent a substantial revision to its scoring system, which can be viewed as a drift. The solution to this problem is to create a one-to-one mapping that could transfer the score under current system to the previous. For score x,y seperately in current and previous system, I assume that the correlation can be roughly calculated as:  \n",
    "$$ \\frac{x-130}{170-130}= \\frac{y-200}{800-200}$$\n"
   ]
  },
  {
   "cell_type": "code",
   "execution_count": 76,
   "metadata": {},
   "outputs": [
    {
     "data": {
      "text/html": [
       "<div>\n",
       "<style scoped>\n",
       "    .dataframe tbody tr th:only-of-type {\n",
       "        vertical-align: middle;\n",
       "    }\n",
       "\n",
       "    .dataframe tbody tr th {\n",
       "        vertical-align: top;\n",
       "    }\n",
       "\n",
       "    .dataframe thead th {\n",
       "        text-align: right;\n",
       "    }\n",
       "</style>\n",
       "<table border=\"1\" class=\"dataframe\">\n",
       "  <thead>\n",
       "    <tr style=\"text-align: right;\">\n",
       "      <th></th>\n",
       "      <th>grad_year</th>\n",
       "      <th>gre_qnt</th>\n",
       "      <th>salary_p4</th>\n",
       "      <th>new_gre_qnt</th>\n",
       "    </tr>\n",
       "  </thead>\n",
       "  <tbody>\n",
       "    <tr>\n",
       "      <th>0</th>\n",
       "      <td>2001.0</td>\n",
       "      <td>739.737072</td>\n",
       "      <td>67400.475185</td>\n",
       "      <td>739.737072</td>\n",
       "    </tr>\n",
       "    <tr>\n",
       "      <th>1</th>\n",
       "      <td>2001.0</td>\n",
       "      <td>721.811673</td>\n",
       "      <td>67600.584142</td>\n",
       "      <td>721.811673</td>\n",
       "    </tr>\n",
       "    <tr>\n",
       "      <th>2</th>\n",
       "      <td>2001.0</td>\n",
       "      <td>736.277908</td>\n",
       "      <td>58704.880589</td>\n",
       "      <td>736.277908</td>\n",
       "    </tr>\n",
       "    <tr>\n",
       "      <th>3</th>\n",
       "      <td>2001.0</td>\n",
       "      <td>770.498485</td>\n",
       "      <td>64707.290345</td>\n",
       "      <td>770.498485</td>\n",
       "    </tr>\n",
       "    <tr>\n",
       "      <th>4</th>\n",
       "      <td>2001.0</td>\n",
       "      <td>735.002861</td>\n",
       "      <td>51737.324165</td>\n",
       "      <td>735.002861</td>\n",
       "    </tr>\n",
       "  </tbody>\n",
       "</table>\n",
       "</div>"
      ],
      "text/plain": [
       "   grad_year     gre_qnt     salary_p4  new_gre_qnt\n",
       "0     2001.0  739.737072  67400.475185   739.737072\n",
       "1     2001.0  721.811673  67600.584142   721.811673\n",
       "2     2001.0  736.277908  58704.880589   736.277908\n",
       "3     2001.0  770.498485  64707.290345   770.498485\n",
       "4     2001.0  735.002861  51737.324165   735.002861"
      ]
     },
     "execution_count": 76,
     "metadata": {},
     "output_type": "execute_result"
    }
   ],
   "source": [
    "# Change the score after 2011 according to the mapping above\n",
    "II['new_gre_qnt'] = np.where(II['grad_year']>=2011, (II['gre_qnt']-130)*15+200, II['gre_qnt'])\n",
    "II.head()\n"
   ]
  },
  {
   "cell_type": "markdown",
   "metadata": {},
   "source": [
    "#### (c) Create a scatterplot of income and graduation year"
   ]
  },
  {
   "cell_type": "code",
   "execution_count": 77,
   "metadata": {},
   "outputs": [
    {
     "data": {
      "image/png": "[encoded data removed]",
      "text/plain": [
       "<Figure size 432x288 with 1 Axes>"
      ]
     },
     "metadata": {},
     "output_type": "display_data"
    }
   ],
   "source": [
    "# Make scatterplot of income and graduation year\n",
    "# simple scatterplot using matplotlib\n",
    "II.plot(x='grad_year', y='salary_p4', kind='scatter')\n",
    "plt.show()"
   ]
  },
  {
   "cell_type": "markdown",
   "metadata": {},
   "source": [
    "The obvious problem here is that there is an increasing trend of the variable salary_p4. The procedures to deal with the problem are as follows:  \n",
    "1) Treat the first year of the data grad_year=2001 equal to the base year.  \n",
    "2) Calculate the average growth rate in salary by calculating the mean salary each year and calculating the average growth rate in salaries across all 13 years.  \n",
    "3) Divide each salary according to the corresponding year and get a new salary variable."
   ]
  },
  {
   "cell_type": "code",
   "execution_count": 82,
   "metadata": {},
   "outputs": [
    {
     "name": "stdout",
     "output_type": "stream",
     "text": [
      "   grad_year     gre_qnt     salary_p4  new_gre_qnt    new_salary\n",
      "0     2001.0  739.737072  67400.475185   739.737072  67400.475185\n",
      "1     2001.0  721.811673  67600.584142   721.811673  67600.584142\n",
      "2     2001.0  736.277908  58704.880589   736.277908  58704.880589\n",
      "3     2001.0  770.498485  64707.290345   770.498485  64707.290345\n",
      "4     2001.0  735.002861  51737.324165   735.002861  51737.324165\n"
     ]
    },
    {
     "data": {
      "image/png": "[encoded data removed]",
      "text/plain": [
       "<Figure size 432x288 with 1 Axes>"
      ]
     },
     "metadata": {},
     "output_type": "display_data"
    }
   ],
   "source": [
    "avg_inc_by_year = II['salary_p4'].groupby(II['grad_year']).mean().values\n",
    "avg_growth_rate = ((avg_inc_by_year[1:] - avg_inc_by_year[:-1]) / avg_inc_by_year[:-1]).mean()\n",
    "II['new_salary'] = II['salary_p4']/((1 + avg_growth_rate) ** (II['grad_year'] - 2001))\n",
    "print(II.head())\n",
    "II.plot(x='grad_year', y='new_salary', kind='scatter')\n",
    "plt.show()"
   ]
  },
  {
   "cell_type": "markdown",
   "metadata": {},
   "source": [
    "#### (d) Re-estimate coefficients with updated variables."
   ]
  },
  {
   "cell_type": "code",
   "execution_count": 83,
   "metadata": {},
   "outputs": [
    {
     "name": "stdout",
     "output_type": "stream",
     "text": [
      "                            OLS Regression Results                            \n",
      "==============================================================================\n",
      "Dep. Variable:             new_salary   R-squared:                       0.000\n",
      "Model:                            OLS   Adj. R-squared:                 -0.001\n",
      "Method:                 Least Squares   F-statistic:                   0.05257\n",
      "Date:                Tue, 16 Oct 2018   Prob (F-statistic):              0.819\n",
      "Time:                        00:10:54   Log-Likelihood:                -10291.\n",
      "No. Observations:                1000   AIC:                         2.059e+04\n",
      "Df Residuals:                     998   BIC:                         2.060e+04\n",
      "Df Model:                           1                                         \n",
      "Covariance Type:            nonrobust                                         \n",
      "===============================================================================\n",
      "                  coef    std err          t      P>|t|      [0.025      0.975]\n",
      "-------------------------------------------------------------------------------\n",
      "new_gre_qnt    -0.6645      2.898     -0.229      0.819      -6.352       5.023\n",
      "const        6.188e+04   2020.482     30.626      0.000    5.79e+04    6.58e+04\n",
      "==============================================================================\n",
      "Omnibus:                        0.757   Durbin-Watson:                   2.026\n",
      "Prob(Omnibus):                  0.685   Jarque-Bera (JB):                0.668\n",
      "Skew:                           0.059   Prob(JB):                        0.716\n",
      "Kurtosis:                       3.048   Cond. No.                     6.24e+03\n",
      "==============================================================================\n",
      "\n",
      "Warnings:\n",
      "[1] Standard Errors assume that the covariance matrix of the errors is correctly specified.\n",
      "[2] The condition number is large, 6.24e+03. This might indicate that there are\n",
      "strong multicollinearity or other numerical problems.\n"
     ]
    }
   ],
   "source": [
    "# Code to re-estimate, output of new coefficients\n",
    "outcome  ='new_salary'\n",
    "features = 'new_gre_qnt'\n",
    "X, y = II[features], II[outcome]\n",
    "X_vars = sm.add_constant(X, prepend=False)\n",
    "m = sm.OLS(y, X_vars)\n",
    "res = m.fit()\n",
    "print(res.summary())"
   ]
  },
  {
   "cell_type": "markdown",
   "metadata": {},
   "source": [
    "The estimated coefficient of the interest variable \"gre_qnt\" is now insignificant. This is because I put gre score in the same system, and delete the growth trend of salary data, which changed both variables' sample variance. With the unchanged regression results, we may conclude that there is a significant negative correlation between income and GRE quant scores, which violates the author's hypothesis. In this regression with transformed \"gre_qnt\" variable, we can see that this effect is insignificant, though the coefficient is still negative. "
   ]
  },
  {
   "cell_type": "markdown",
   "metadata": {},
   "source": [
    "### 3. Assessment of Kossinets and Watts."
   ]
  },
  {
   "cell_type": "markdown",
   "metadata": {},
   "source": [
    "See attached PDF. "
   ]
  },
  {
   "cell_type": "code",
   "execution_count": null,
   "metadata": {},
   "outputs": [],
   "source": []
  }
 ],
 "metadata": {
  "kernelspec": {
   "display_name": "Python 3",
   "language": "python",
   "name": "python3"
  },
  "language_info": {
   "codemirror_mode": {
    "name": "ipython",
    "version": 3
   },
   "file_extension": ".py",
   "mimetype": "text/x-python",
   "name": "python",
   "nbconvert_exporter": "python",
   "pygments_lexer": "ipython3",
   "version": "3.6.5"
  }
 },
 "nbformat": 4,
 "nbformat_minor": 2
}
