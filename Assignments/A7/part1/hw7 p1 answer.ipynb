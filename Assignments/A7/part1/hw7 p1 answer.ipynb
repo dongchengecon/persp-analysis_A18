{
 "cells": [
  {
   "cell_type": "markdown",
   "metadata": {},
   "source": [
    "# Assignment 7 part1\n",
    "\n",
    "### MACS 30000, Dr. Evans\n",
    "### Dongcheng Yang  \n",
    "### Nov. 20"
   ]
  },
  {
   "cell_type": "markdown",
   "metadata": {},
   "source": [
    "### 1. Unit Testing in Python."
   ]
  },
  {
   "cell_type": "markdown",
   "metadata": {},
   "source": [
    "#### problem1"
   ]
  },
  {
   "cell_type": "code",
   "execution_count": 1,
   "metadata": {},
   "outputs": [],
   "source": [
    "# original function \n",
    "def smallest_factor(n):\n",
    "    \"\"\"Return the smallest prime factor of the positive integer n.\"\"\"\n",
    "    if n == 1: \n",
    "        return 1\n",
    "    for i in range(2, int(n**.5)):\n",
    "        if n % i == 0: \n",
    "            return i\n",
    "    return n"
   ]
  },
  {
   "cell_type": "code",
   "execution_count": 2,
   "metadata": {},
   "outputs": [],
   "source": [
    "import p1a\n",
    "\n",
    "def test_smallest_factor1():\n",
    "    assert p1a.smallest_factor(9) == 3, \"failed on full square\"\n",
    "    \n",
    "def test_smallest_factor2():    \n",
    "    assert p1a.smallest_factor(6) == 2, \"failed on small numbers\""
   ]
  },
  {
   "cell_type": "code",
   "execution_count": 12,
   "metadata": {},
   "outputs": [
    {
     "name": "stdout",
     "output_type": "stream",
     "text": [
      "============================= test session starts =============================\n",
      "platform win32 -- Python 3.6.5, pytest-3.5.1, py-1.5.3, pluggy-0.6.0\n",
      "rootdir: C:\\Users\\pcc\\Desktop\\persp-analysis_A18-master\\Assignments\\A7\\problem1, inifile:\n",
      "plugins: remotedata-0.2.1, openfiles-0.3.0, doctestplus-0.1.3, cov-2.6.0, arraydiff-0.2\n",
      "collected 2 items\n",
      "\n",
      "test_p1a.py FF                                                           [100%]\n",
      "\n",
      "================================== FAILURES ===================================\n",
      "____________________________ test_smallest_factor1 ____________________________\n",
      "\n",
      "    def test_smallest_factor1():\n",
      ">       assert p1a.smallest_factor(9) == 3, \"failed on full square\"\n",
      "E       AssertionError: failed on full square\n",
      "E       assert 9 == 3\n",
      "E        +  where 9 = <function smallest_factor at 0x000000C959506A60>(9)\n",
      "E        +    where <function smallest_factor at 0x000000C959506A60> = p1a.smallest_factor\n",
      "\n",
      "test_p1a.py:10: AssertionError\n",
      "____________________________ test_smallest_factor2 ____________________________\n",
      "\n",
      "    def test_smallest_factor2():\n",
      ">       assert p1a.smallest_factor(6) == 2, \"failed on small numbers\"\n",
      "E       AssertionError: failed on small numbers\n",
      "E       assert 6 == 2\n",
      "E        +  where 6 = <function smallest_factor at 0x000000C959506A60>(6)\n",
      "E        +    where <function smallest_factor at 0x000000C959506A60> = p1a.smallest_factor\n",
      "\n",
      "test_p1a.py:13: AssertionError\n",
      "========================== 2 failed in 0.29 seconds ===========================\n"
     ]
    }
   ],
   "source": [
    "!py.test test_p1a.py "
   ]
  },
  {
   "cell_type": "markdown",
   "metadata": {},
   "source": [
    "Two special cases are included in the pytest. The first one is the square of a prime  \n",
    "number and the second one is a small number. The small number case failed because  \n",
    "the range (2, int(n**.5)) was not able to include anything."
   ]
  },
  {
   "cell_type": "code",
   "execution_count": 17,
   "metadata": {},
   "outputs": [],
   "source": [
    "# corrected version\n",
    "\n",
    "def smallest_factor(n):\n",
    "    \"\"\"Return the smallest prime factor of the positive integer n.\"\"\"\n",
    "    if n == 1: return 1\n",
    "    for i in range(2, int(n**.5)+1):\n",
    "        if n % i == 0: return i\n",
    "    return n\n",
    "\n",
    "# This corrected version could pass all tests cases with full coverage"
   ]
  },
  {
   "cell_type": "markdown",
   "metadata": {},
   "source": [
    "#### problem2"
   ]
  },
  {
   "cell_type": "markdown",
   "metadata": {},
   "source": [
    "Here is the code to check my coverage of the function smallest_factor() from problem1.  \n",
    "The corrected version of the function smallest_factor() is saved in file \"p1a.py \"   \n",
    "and test cases in \"test_p1a.py\". Then I ran \"py.test --cov\" to test."
   ]
  },
  {
   "cell_type": "code",
   "execution_count": 16,
   "metadata": {},
   "outputs": [
    {
     "name": "stdout",
     "output_type": "stream",
     "text": [
      "============================= test session starts =============================\n",
      "platform win32 -- Python 3.6.5, pytest-3.5.1, py-1.5.3, pluggy-0.6.0\n",
      "rootdir: C:\\Users\\pcc\\Desktop\\persp-analysis_A18-master\\Assignments\\A7\\problem1, inifile:\n",
      "plugins: remotedata-0.2.1, openfiles-0.3.0, doctestplus-0.1.3, cov-2.6.0, arraydiff-0.2\n",
      "collected 2 items\n",
      "\n",
      "test_p1a.py .                                                            [ 50%]\n",
      "test_p1b.py .                                                            [100%]\n",
      "\n",
      "----------- coverage: platform win32, python 3.6.5-final-0 -----------\n",
      "Name          Stmts   Miss  Cover\n",
      "---------------------------------\n",
      "p1a.py            6      0   100%\n",
      "p1b.py           11      0   100%\n",
      "test_p1a.py      10      0   100%\n",
      "test_p1b.py      11      0   100%\n",
      "---------------------------------\n",
      "TOTAL            38      0   100%\n",
      "\n",
      "\n",
      "========================== 2 passed in 0.22 seconds ===========================\n"
     ]
    }
   ],
   "source": [
    "!py.test --cov"
   ]
  },
  {
   "cell_type": "markdown",
   "metadata": {},
   "source": [
    "The coverage for both files are 100%. "
   ]
  },
  {
   "cell_type": "markdown",
   "metadata": {},
   "source": [
    "Here is the code to check the function month_length(). The original function   \n",
    "is stored in the file \"p1b.py\" and the test cases are saved in the file \"test_p1b.py\".   \n",
    "Then I ran \"py.test --cov\" to test. The coverage is also 100%."
   ]
  },
  {
   "cell_type": "code",
   "execution_count": null,
   "metadata": {},
   "outputs": [],
   "source": [
    "#original function \n",
    "\n",
    "def month_length(month, leap_year=False):\n",
    "    \"\"\"Return the number of days in the given month.\"\"\"\n",
    "    if month in {\"September\", \"April\", \"June\", \"November\"}:\n",
    "        return 30\n",
    "    elif month in {\"January\", \"March\", \"May\", \"July\",\"August\", \"October\", \"December\"}:\n",
    "        return 31\n",
    "    if month == \"February\":\n",
    "        if not leap_year:\n",
    "            return 28\n",
    "        else:\n",
    "            return 29\n",
    "    else:\n",
    "        return None"
   ]
  },
  {
   "cell_type": "code",
   "execution_count": 18,
   "metadata": {},
   "outputs": [],
   "source": [
    "import p1b\n",
    "def test_month_length():\n",
    "    assert p1b.month_length(\"January\") == 31\n",
    "    assert p1b.month_length(\"February\") == 28\n",
    "    assert p1b.month_length(\"February\",leap_year=True) == 29\n",
    "    assert p1b.month_length(\"July\") == 31\n",
    "    assert p1b.month_length(\"August\") == 31\n",
    "    assert p1b.month_length(\"September\") == 30\n",
    "    assert p1b.month_length(\"October\") == 31\n",
    "    assert p1b.month_length(\"else\") == None"
   ]
  },
  {
   "cell_type": "code",
   "execution_count": 19,
   "metadata": {},
   "outputs": [
    {
     "name": "stdout",
     "output_type": "stream",
     "text": [
      "============================= test session starts =============================\n",
      "platform win32 -- Python 3.6.5, pytest-3.5.1, py-1.5.3, pluggy-0.6.0\n",
      "rootdir: C:\\Users\\pcc\\Desktop\\persp-analysis_A18-master\\Assignments\\A7\\problem1, inifile:\n",
      "plugins: remotedata-0.2.1, openfiles-0.3.0, doctestplus-0.1.3, cov-2.6.0, arraydiff-0.2\n",
      "collected 2 items\n",
      "\n",
      "test_p1a.py .                                                            [ 50%]\n",
      "test_p1b.py .                                                            [100%]\n",
      "\n",
      "----------- coverage: platform win32, python 3.6.5-final-0 -----------\n",
      "Name          Stmts   Miss  Cover\n",
      "---------------------------------\n",
      "p1a.py            6      0   100%\n",
      "p1b.py           11      0   100%\n",
      "test_p1a.py      10      0   100%\n",
      "test_p1b.py      11      0   100%\n",
      "---------------------------------\n",
      "TOTAL            38      0   100%\n",
      "\n",
      "\n",
      "========================== 2 passed in 0.20 seconds ===========================\n"
     ]
    }
   ],
   "source": [
    "!py.test --cov"
   ]
  },
  {
   "cell_type": "markdown",
   "metadata": {},
   "source": [
    "#### problem3"
   ]
  },
  {
   "cell_type": "markdown",
   "metadata": {},
   "source": [
    "Here is the code to check the function operate(). The original function   \n",
    "is stored in the file \"p1c.py\" and the test cases are saved in the file  \n",
    "\"test_p1c.py\". Then I ran \"py.test --cov\" to test. "
   ]
  },
  {
   "cell_type": "code",
   "execution_count": 21,
   "metadata": {},
   "outputs": [],
   "source": [
    "#original function\n",
    "\n",
    "def operate(a, b, oper):\n",
    "    \"\"\"Apply an arithmetic operation to a and b.\"\"\"\n",
    "    if type(oper) is not str:\n",
    "        raise TypeError(\"oper must be a string\")\n",
    "    elif oper == '+':\n",
    "        return a + b\n",
    "    elif oper == '-':\n",
    "        return a - b\n",
    "    elif oper == '*':\n",
    "        return a * b\n",
    "    elif oper == '/':\n",
    "        if b == 0:\n",
    "            raise ZeroDivisionError(\"division by zero is undefined\")\n",
    "        return a / b\n",
    "    raise ValueError(\"oper must be one of '+', '/', '-', or '*'\")"
   ]
  },
  {
   "cell_type": "code",
   "execution_count": 24,
   "metadata": {},
   "outputs": [],
   "source": [
    "import p1c\n",
    "import pytest\n",
    "\n",
    "def test_cases():\n",
    "    assert p1c.operate(1,2,\"+\") == 3\n",
    "    assert p1c.operate(1,2,\"-\") == -1\n",
    "    assert p1c.operate(1,2,\"*\") == 2\n",
    "    assert p1c.operate(1,2,\"/\") == 0.5\n",
    "    with pytest.raises(ZeroDivisionError) as err:\n",
    "        p1c.operate(1,0,'/')\n",
    "    assert err.value.args[0]==\"division by zero is undefined\"\n",
    "\n",
    "    with pytest.raises(TypeError) as err2:\n",
    "        p1c.operate(1,0,0)\n",
    "    assert err2.value.args[0]==\"oper must be a string\"\n",
    "\n",
    "    with pytest.raises(ValueError) as err3:\n",
    "        p1c.operate(1,0,'<')\n",
    "    assert err3.value.args[0]==\"oper must be one of '+', '/', '-', or '*'\""
   ]
  },
  {
   "cell_type": "code",
   "execution_count": 25,
   "metadata": {},
   "outputs": [
    {
     "name": "stdout",
     "output_type": "stream",
     "text": [
      "============================= test session starts =============================\n",
      "platform win32 -- Python 3.6.5, pytest-3.5.1, py-1.5.3, pluggy-0.6.0\n",
      "rootdir: C:\\Users\\pcc\\Desktop\\persp-analysis_A18-master\\Assignments\\A7\\problem1, inifile:\n",
      "plugins: remotedata-0.2.1, openfiles-0.3.0, doctestplus-0.1.3, cov-2.6.0, arraydiff-0.2\n",
      "collected 3 items\n",
      "\n",
      "test_p1a.py .                                                            [ 33%]\n",
      "test_p1b.py .                                                            [ 66%]\n",
      "test_p1c.py .                                                            [100%]\n",
      "\n",
      "----------- coverage: platform win32, python 3.6.5-final-0 -----------\n",
      "Name          Stmts   Miss  Cover\n",
      "---------------------------------\n",
      "p1a.py            6      0   100%\n",
      "p1b.py           11      0   100%\n",
      "p1c.py           15      0   100%\n",
      "test_p1a.py      10      0   100%\n",
      "test_p1b.py      11      0   100%\n",
      "test_p1c.py      17      0   100%\n",
      "---------------------------------\n",
      "TOTAL            70      0   100%\n",
      "\n",
      "\n",
      "========================== 3 passed in 0.26 seconds ===========================\n"
     ]
    }
   ],
   "source": [
    "!py.test --cov"
   ]
  },
  {
   "cell_type": "code",
   "execution_count": null,
   "metadata": {},
   "outputs": [],
   "source": []
  }
 ],
 "metadata": {
  "kernelspec": {
   "display_name": "Python 3",
   "language": "python",
   "name": "python3"
  },
  "language_info": {
   "codemirror_mode": {
    "name": "ipython",
    "version": 3
   },
   "file_extension": ".py",
   "mimetype": "text/x-python",
   "name": "python",
   "nbconvert_exporter": "python",
   "pygments_lexer": "ipython3",
   "version": "3.6.5"
  }
 },
 "nbformat": 4,
 "nbformat_minor": 2
}
