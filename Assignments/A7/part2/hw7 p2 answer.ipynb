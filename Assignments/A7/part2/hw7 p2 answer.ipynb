{
 "cells": [
  {
   "cell_type": "markdown",
   "metadata": {},
   "source": [
    "# Assignment 7 part2\n",
    "\n",
    "### MACS 30000, Dr. Evans\n",
    "### Dongcheng Yang  \n",
    "### Nov. 20"
   ]
  },
  {
   "cell_type": "markdown",
   "metadata": {},
   "source": [
    "### 2. Test driven development"
   ]
  },
  {
   "cell_type": "markdown",
   "metadata": {},
   "source": [
    "#### 2(a) and 2(b)"
   ]
  },
  {
   "cell_type": "markdown",
   "metadata": {},
   "source": [
    "Here is the code to calculate the interest rate by using the function get_r(). "
   ]
  },
  {
   "cell_type": "code",
   "execution_count": 1,
   "metadata": {},
   "outputs": [],
   "source": [
    "\n",
    "def get_r(K, L, alpha, Z, delta):\n",
    "    '''This function could generate the interest rate or vector of interest rates'''\n",
    "    return alpha*Z*((L/K)**(1-alpha))-delta\n",
    "    "
   ]
  },
  {
   "cell_type": "markdown",
   "metadata": {},
   "source": [
    "\n",
    "This function could handle both scalars and vector cases of K and L."
   ]
  },
  {
   "cell_type": "markdown",
   "metadata": {},
   "source": [
    "####  2(c)"
   ]
  },
  {
   "cell_type": "markdown",
   "metadata": {},
   "source": [
    "The function get_r() is saved in file \"get_r.py\" and test cases in \"test_r.py \".   \n",
    "Then I ran \"py.test --cov\" to test. The coverage is 100% for both files."
   ]
  },
  {
   "cell_type": "code",
   "execution_count": 3,
   "metadata": {
    "scrolled": true
   },
   "outputs": [
    {
     "name": "stdout",
     "output_type": "stream",
     "text": [
      "============================= test session starts =============================\n",
      "platform win32 -- Python 3.6.5, pytest-3.5.1, py-1.5.3, pluggy-0.6.0\n",
      "rootdir: C:\\Users\\pcc\\Desktop\\persp-analysis_A18-master\\Assignments\\A7\\problem2, inifile:\n",
      "plugins: remotedata-0.2.1, openfiles-0.3.0, doctestplus-0.1.3, cov-2.6.0, arraydiff-0.2\n",
      "collected 244 items\n",
      "\n",
      "test_r.py .............................................................. [ 25%]\n",
      "........................................................................ [ 54%]\n",
      "........................................................................ [ 84%]\n",
      "......................................                                   [100%]\n",
      "\n",
      "----------- coverage: platform win32, python 3.6.5-final-0 -----------\n",
      "Name        Stmts   Miss  Cover\n",
      "-------------------------------\n",
      "get_r.py        3      0   100%\n",
      "test_r.py      29      0   100%\n",
      "-------------------------------\n",
      "TOTAL          32      0   100%\n",
      "\n",
      "\n",
      "========================= 244 passed in 2.37 seconds ==========================\n"
     ]
    }
   ],
   "source": [
    "!py.test --cov "
   ]
  },
  {
   "cell_type": "code",
   "execution_count": null,
   "metadata": {},
   "outputs": [],
   "source": []
  }
 ],
 "metadata": {
  "kernelspec": {
   "display_name": "Python 3",
   "language": "python",
   "name": "python3"
  },
  "language_info": {
   "codemirror_mode": {
    "name": "ipython",
    "version": 3
   },
   "file_extension": ".py",
   "mimetype": "text/x-python",
   "name": "python",
   "nbconvert_exporter": "python",
   "pygments_lexer": "ipython3",
   "version": "3.6.5"
  }
 },
 "nbformat": 4,
 "nbformat_minor": 2
}
